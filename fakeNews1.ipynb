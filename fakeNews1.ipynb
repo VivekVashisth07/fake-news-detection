{
 "metadata": {
  "language_info": {
   "codemirror_mode": {
    "name": "ipython",
    "version": 3
   },
   "file_extension": ".py",
   "mimetype": "text/x-python",
   "name": "python",
   "nbconvert_exporter": "python",
   "pygments_lexer": "ipython3",
   "version": "3.6.8-final"
  },
  "orig_nbformat": 2,
  "kernelspec": {
   "name": "python_defaultSpec_1598507046346",
   "display_name": "Python 3.6.8 64-bit"
  }
 },
 "nbformat": 4,
 "nbformat_minor": 2,
 "cells": [
  {
   "cell_type": "code",
   "execution_count": 89,
   "metadata": {},
   "outputs": [],
   "source": [
    "import numpy as np\n",
    "import pandas as pd\n",
    "import itertools\n",
    "from sklearn.model_selection import train_test_split\n",
    "from sklearn.feature_extraction.text import TfidfVectorizer\n",
    "from sklearn.linear_model import PassiveAggressiveClassifier\n",
    "from sklearn.metrics import accuracy_score, confusion_matrix\n"
   ]
  },
  {
   "cell_type": "code",
   "execution_count": 90,
   "metadata": {},
   "outputs": [
    {
     "output_type": "execute_result",
     "data": {
      "text/plain": "      Unnamed: 0                                              title  \\\n0           8476                       You Can Smell Hillary’s Fear   \n1          10294  Watch The Exact Moment Paul Ryan Committed Pol...   \n2           3608        Kerry to go to Paris in gesture of sympathy   \n3          10142  Bernie supporters on Twitter erupt in anger ag...   \n4            875   The Battle of New York: Why This Primary Matters   \n...          ...                                                ...   \n6330        4490  State Department says it can't find emails fro...   \n6331        8062  The ‘P’ in PBS Should Stand for ‘Plutocratic’ ...   \n6332        8622  Anti-Trump Protesters Are Tools of the Oligarc...   \n6333        4021  In Ethiopia, Obama seeks progress on peace, se...   \n6334        4330  Jeb Bush Is Suddenly Attacking Trump. Here's W...   \n\n                                                   text label  \n0     Daniel Greenfield, a Shillman Journalism Fello...  FAKE  \n1     Google Pinterest Digg Linkedin Reddit Stumbleu...  FAKE  \n2     U.S. Secretary of State John F. Kerry said Mon...  REAL  \n3     — Kaydee King (@KaydeeKing) November 9, 2016 T...  FAKE  \n4     It's primary day in New York and front-runners...  REAL  \n...                                                 ...   ...  \n6330  The State Department told the Republican Natio...  REAL  \n6331  The ‘P’ in PBS Should Stand for ‘Plutocratic’ ...  FAKE  \n6332   Anti-Trump Protesters Are Tools of the Oligar...  FAKE  \n6333  ADDIS ABABA, Ethiopia —President Obama convene...  REAL  \n6334  Jeb Bush Is Suddenly Attacking Trump. Here's W...  REAL  \n\n[6335 rows x 4 columns]",
      "text/html": "<div>\n<style scoped>\n    .dataframe tbody tr th:only-of-type {\n        vertical-align: middle;\n    }\n\n    .dataframe tbody tr th {\n        vertical-align: top;\n    }\n\n    .dataframe thead th {\n        text-align: right;\n    }\n</style>\n<table border=\"1\" class=\"dataframe\">\n  <thead>\n    <tr style=\"text-align: right;\">\n      <th></th>\n      <th>Unnamed: 0</th>\n      <th>title</th>\n      <th>text</th>\n      <th>label</th>\n    </tr>\n  </thead>\n  <tbody>\n    <tr>\n      <td>0</td>\n      <td>8476</td>\n      <td>You Can Smell Hillary’s Fear</td>\n      <td>Daniel Greenfield, a Shillman Journalism Fello...</td>\n      <td>FAKE</td>\n    </tr>\n    <tr>\n      <td>1</td>\n      <td>10294</td>\n      <td>Watch The Exact Moment Paul Ryan Committed Pol...</td>\n      <td>Google Pinterest Digg Linkedin Reddit Stumbleu...</td>\n      <td>FAKE</td>\n    </tr>\n    <tr>\n      <td>2</td>\n      <td>3608</td>\n      <td>Kerry to go to Paris in gesture of sympathy</td>\n      <td>U.S. Secretary of State John F. Kerry said Mon...</td>\n      <td>REAL</td>\n    </tr>\n    <tr>\n      <td>3</td>\n      <td>10142</td>\n      <td>Bernie supporters on Twitter erupt in anger ag...</td>\n      <td>— Kaydee King (@KaydeeKing) November 9, 2016 T...</td>\n      <td>FAKE</td>\n    </tr>\n    <tr>\n      <td>4</td>\n      <td>875</td>\n      <td>The Battle of New York: Why This Primary Matters</td>\n      <td>It's primary day in New York and front-runners...</td>\n      <td>REAL</td>\n    </tr>\n    <tr>\n      <td>...</td>\n      <td>...</td>\n      <td>...</td>\n      <td>...</td>\n      <td>...</td>\n    </tr>\n    <tr>\n      <td>6330</td>\n      <td>4490</td>\n      <td>State Department says it can't find emails fro...</td>\n      <td>The State Department told the Republican Natio...</td>\n      <td>REAL</td>\n    </tr>\n    <tr>\n      <td>6331</td>\n      <td>8062</td>\n      <td>The ‘P’ in PBS Should Stand for ‘Plutocratic’ ...</td>\n      <td>The ‘P’ in PBS Should Stand for ‘Plutocratic’ ...</td>\n      <td>FAKE</td>\n    </tr>\n    <tr>\n      <td>6332</td>\n      <td>8622</td>\n      <td>Anti-Trump Protesters Are Tools of the Oligarc...</td>\n      <td>Anti-Trump Protesters Are Tools of the Oligar...</td>\n      <td>FAKE</td>\n    </tr>\n    <tr>\n      <td>6333</td>\n      <td>4021</td>\n      <td>In Ethiopia, Obama seeks progress on peace, se...</td>\n      <td>ADDIS ABABA, Ethiopia —President Obama convene...</td>\n      <td>REAL</td>\n    </tr>\n    <tr>\n      <td>6334</td>\n      <td>4330</td>\n      <td>Jeb Bush Is Suddenly Attacking Trump. Here's W...</td>\n      <td>Jeb Bush Is Suddenly Attacking Trump. Here's W...</td>\n      <td>REAL</td>\n    </tr>\n  </tbody>\n</table>\n<p>6335 rows × 4 columns</p>\n</div>"
     },
     "metadata": {},
     "execution_count": 90
    }
   ],
   "source": [
    "data=pd.read_csv(\"news.csv\")\n",
    "data"
   ]
  },
  {
   "cell_type": "code",
   "execution_count": 91,
   "metadata": {},
   "outputs": [
    {
     "output_type": "execute_result",
     "data": {
      "text/plain": "(6335, 4)"
     },
     "metadata": {},
     "execution_count": 91
    }
   ],
   "source": [
    "data.shape"
   ]
  },
  {
   "cell_type": "code",
   "execution_count": 92,
   "metadata": {},
   "outputs": [
    {
     "output_type": "execute_result",
     "data": {
      "text/plain": "   Unnamed: 0                                              title  \\\n0        8476                       You Can Smell Hillary’s Fear   \n1       10294  Watch The Exact Moment Paul Ryan Committed Pol...   \n2        3608        Kerry to go to Paris in gesture of sympathy   \n3       10142  Bernie supporters on Twitter erupt in anger ag...   \n4         875   The Battle of New York: Why This Primary Matters   \n\n                                                text label  \n0  Daniel Greenfield, a Shillman Journalism Fello...  FAKE  \n1  Google Pinterest Digg Linkedin Reddit Stumbleu...  FAKE  \n2  U.S. Secretary of State John F. Kerry said Mon...  REAL  \n3  — Kaydee King (@KaydeeKing) November 9, 2016 T...  FAKE  \n4  It's primary day in New York and front-runners...  REAL  ",
      "text/html": "<div>\n<style scoped>\n    .dataframe tbody tr th:only-of-type {\n        vertical-align: middle;\n    }\n\n    .dataframe tbody tr th {\n        vertical-align: top;\n    }\n\n    .dataframe thead th {\n        text-align: right;\n    }\n</style>\n<table border=\"1\" class=\"dataframe\">\n  <thead>\n    <tr style=\"text-align: right;\">\n      <th></th>\n      <th>Unnamed: 0</th>\n      <th>title</th>\n      <th>text</th>\n      <th>label</th>\n    </tr>\n  </thead>\n  <tbody>\n    <tr>\n      <td>0</td>\n      <td>8476</td>\n      <td>You Can Smell Hillary’s Fear</td>\n      <td>Daniel Greenfield, a Shillman Journalism Fello...</td>\n      <td>FAKE</td>\n    </tr>\n    <tr>\n      <td>1</td>\n      <td>10294</td>\n      <td>Watch The Exact Moment Paul Ryan Committed Pol...</td>\n      <td>Google Pinterest Digg Linkedin Reddit Stumbleu...</td>\n      <td>FAKE</td>\n    </tr>\n    <tr>\n      <td>2</td>\n      <td>3608</td>\n      <td>Kerry to go to Paris in gesture of sympathy</td>\n      <td>U.S. Secretary of State John F. Kerry said Mon...</td>\n      <td>REAL</td>\n    </tr>\n    <tr>\n      <td>3</td>\n      <td>10142</td>\n      <td>Bernie supporters on Twitter erupt in anger ag...</td>\n      <td>— Kaydee King (@KaydeeKing) November 9, 2016 T...</td>\n      <td>FAKE</td>\n    </tr>\n    <tr>\n      <td>4</td>\n      <td>875</td>\n      <td>The Battle of New York: Why This Primary Matters</td>\n      <td>It's primary day in New York and front-runners...</td>\n      <td>REAL</td>\n    </tr>\n  </tbody>\n</table>\n</div>"
     },
     "metadata": {},
     "execution_count": 92
    }
   ],
   "source": [
    "data.head()"
   ]
  },
  {
   "cell_type": "code",
   "execution_count": 93,
   "metadata": {
    "tags": []
   },
   "outputs": [
    {
     "output_type": "stream",
     "name": "stdout",
     "text": "Empty DataFrame\nColumns: [Unnamed: 0, title, text, label]\nIndex: []\n"
    }
   ],
   "source": [
    "print(data[data.isna().any(axis=1)])"
   ]
  },
  {
   "cell_type": "code",
   "execution_count": 94,
   "metadata": {},
   "outputs": [
    {
     "output_type": "execute_result",
     "data": {
      "text/plain": "0    FAKE\n1    FAKE\n2    REAL\n3    FAKE\n4    REAL\nName: label, dtype: object"
     },
     "metadata": {},
     "execution_count": 94
    }
   ],
   "source": [
    "label=data.label\n",
    "label.head()"
   ]
  },
  {
   "cell_type": "code",
   "execution_count": 95,
   "metadata": {},
   "outputs": [
    {
     "output_type": "execute_result",
     "data": {
      "text/plain": "0       Daniel Greenfield, a Shillman Journalism Fello...\n1       Google Pinterest Digg Linkedin Reddit Stumbleu...\n2       U.S. Secretary of State John F. Kerry said Mon...\n3       — Kaydee King (@KaydeeKing) November 9, 2016 T...\n4       It's primary day in New York and front-runners...\n                              ...                        \n6330    The State Department told the Republican Natio...\n6331    The ‘P’ in PBS Should Stand for ‘Plutocratic’ ...\n6332     Anti-Trump Protesters Are Tools of the Oligar...\n6333    ADDIS ABABA, Ethiopia —President Obama convene...\n6334    Jeb Bush Is Suddenly Attacking Trump. Here's W...\nName: text, Length: 6335, dtype: object"
     },
     "metadata": {},
     "execution_count": 95
    }
   ],
   "source": [
    "x=data['text']\n",
    "x"
   ]
  },
  {
   "cell_type": "code",
   "execution_count": 96,
   "metadata": {},
   "outputs": [
    {
     "output_type": "execute_result",
     "data": {
      "text/plain": "0       FAKE\n1       FAKE\n2       REAL\n3       FAKE\n4       REAL\n        ... \n6330    REAL\n6331    FAKE\n6332    FAKE\n6333    REAL\n6334    REAL\nName: label, Length: 6335, dtype: object"
     },
     "metadata": {},
     "execution_count": 96
    }
   ],
   "source": [
    "y=data['label']\n",
    "y"
   ]
  },
  {
   "cell_type": "code",
   "execution_count": 96,
   "metadata": {},
   "outputs": [],
   "source": [
    "\n"
   ]
  },
  {
   "cell_type": "code",
   "execution_count": 97,
   "metadata": {},
   "outputs": [],
   "source": [
    "x_train,x_test,y_train,y_test= train_test_split(x,y,test_size=0.2,random_state=7)\n"
   ]
  },
  {
   "cell_type": "code",
   "execution_count": 98,
   "metadata": {
    "tags": []
   },
   "outputs": [
    {
     "output_type": "stream",
     "name": "stdout",
     "text": "(0, 56381)\t0.03622223988286098\n  (0, 16314)\t0.053492157980948106\n  (0, 19620)\t0.030351855107005405\n  (0, 52607)\t0.04266045446208797\n  (0, 14900)\t0.039165339742818085\n  (0, 53749)\t0.029756205182552464\n  (0, 15211)\t0.07772572986248194\n  (0, 61154)\t0.06726619958695557\n  (0, 59042)\t0.047893261248723944\n  (0, 42972)\t0.03152542343098286\n  (0, 54232)\t0.038673616329284524\n  (0, 59249)\t0.04106143649018827\n  (0, 28891)\t0.06514397995138038\n  (0, 41708)\t0.03983513460128018\n  (0, 50192)\t0.045331181477256094\n  (0, 44691)\t0.0318676439567658\n  (0, 11820)\t0.046381950858248124\n  (0, 7682)\t0.04137048243377956\n  (0, 50343)\t0.10196965191544219\n  (0, 48095)\t0.021092647294770877\n  (0, 17916)\t0.03674587236023286\n  (0, 46027)\t0.10236534701241509\n  (0, 16993)\t0.02775494464904786\n  (0, 55006)\t0.03368300200002207\n  (0, 51389)\t0.03397042876291898\n  :\t:\n  (5067, 32909)\t0.09429823872256275\n  (5067, 59221)\t0.11305513144362901\n  (5067, 14649)\t0.03772971846597005\n  (5067, 55827)\t0.2218263076177088\n  (5067, 10398)\t0.029198031075976353\n  (5067, 46158)\t0.037013973826002855\n  (5067, 60684)\t0.022935168393493133\n  (5067, 53139)\t0.025628375412833703\n  (5067, 14556)\t0.04989667741743244\n  (5067, 59249)\t0.09370008504693801\n  (5067, 48095)\t0.09626467139586602\n  (5067, 54706)\t0.02438296419332449\n  (5067, 54235)\t0.18013712617861882\n  (5067, 23649)\t0.11715980750719378\n  (5067, 60291)\t0.02511088091736429\n  (5067, 30025)\t0.07803429885512414\n  (5067, 4919)\t0.039597295646358985\n  (5067, 24041)\t0.031458613144788115\n  (5067, 51148)\t0.03759621365205542\n  (5067, 47648)\t0.051281746021764794\n  (5067, 40793)\t0.12848334208123888\n  (5067, 57811)\t0.028627812267104712\n  (5067, 51968)\t0.04662099560930727\n  (5067, 57236)\t0.05398142449766798\n  (5067, 24260)\t0.029565269989545447\n"
    }
   ],
   "source": [
    "#DataFlair - Initialize a TfidfVectorizer\n",
    "tfidf_vectorizer=TfidfVectorizer(stop_words='english', max_df=0.7)\n",
    "#DataFlair - Fit and transform train set, transform test set\n",
    "tfidf_train=tfidf_vectorizer.fit_transform(x_train) \n",
    "tfidf_test=tfidf_vectorizer.transform(x_test)"
   ]
  },
  {
   "cell_type": "code",
   "execution_count": 99,
   "metadata": {},
   "outputs": [
    {
     "output_type": "execute_result",
     "data": {
      "text/plain": "PassiveAggressiveClassifier(C=1.0, average=False, class_weight=None,\n                            early_stopping=False, fit_intercept=True,\n                            loss='hinge', max_iter=7, n_iter_no_change=5,\n                            n_jobs=None, random_state=None, shuffle=True,\n                            tol=0.001, validation_fraction=0.1, verbose=0,\n                            warm_start=False)"
     },
     "metadata": {},
     "execution_count": 99
    }
   ],
   "source": [
    "#DataFlair - Initialize a PassiveAggressiveClassifier\n",
    "pac=PassiveAggressiveClassifier(max_iter=7)\n",
    "pac.fit(tfidf_train,y_train)\n",
    "\n",
    "\n"
   ]
  },
  {
   "cell_type": "code",
   "execution_count": 100,
   "metadata": {
    "tags": []
   },
   "outputs": [
    {
     "output_type": "stream",
     "name": "stdout",
     "text": "Accuracy: 93.05%\n"
    }
   ],
   "source": [
    "#DataFlair - Predict on the test set and calculate accuracy\n",
    "y_pred=pac.predict(tfidf_test)\n",
    "score=accuracy_score(y_test,y_pred)\n",
    "print(f'Accuracy: {round(score*100,2)}%')"
   ]
  },
  {
   "cell_type": "code",
   "execution_count": 101,
   "metadata": {},
   "outputs": [
    {
     "output_type": "execute_result",
     "data": {
      "text/plain": "array([[593,  45],\n       [ 43, 586]], dtype=int64)"
     },
     "metadata": {},
     "execution_count": 101
    }
   ],
   "source": [
    "#DataFlair - Build confusion matrix\n",
    "confusion_matrix(y_test,y_pred, labels=['FAKE','REAL'])"
   ]
  },
  {
   "cell_type": "code",
   "execution_count": null,
   "metadata": {},
   "outputs": [],
   "source": []
  }
 ]
}